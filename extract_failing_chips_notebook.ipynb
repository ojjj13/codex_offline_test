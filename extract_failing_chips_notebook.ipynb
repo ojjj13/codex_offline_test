{
 "cells": [
  {
   "cell_type": "markdown",
   "id": "118bac62",
   "metadata": {},
   "source": [
    "# Extract Failing Chips Notebook\n",
    "This notebook replicates `extract_failing_chips.py` but lets you select CSV files interactively."
   ]
  },
  {
   "cell_type": "code",
   "execution_count": null,
   "id": "d26b15ec",
   "metadata": {},
   "outputs": [],
   "source": [
    "from extract_failing_chips import compare_coverage\n",
    "import pandas as pd\n",
    "from IPython.display import display, clear_output\n",
    "import ipywidgets as widgets"
   ]
  },
  {
   "cell_type": "code",
   "execution_count": null,
   "id": "ba87b30c",
   "metadata": {},
   "outputs": [],
   "source": [
    "file_a_widget = widgets.Text(description='File A:', placeholder='path/to/wafer_A.csv')\n",
    "file_b_widget = widgets.Text(description='File B:', placeholder='path/to/wafer_B.csv')\n",
    "run_button = widgets.Button(description='Run comparison')\n",
    "output = widgets.Output()\n",
    "\n",
    "def on_run_clicked(b):\n",
    "    with output:\n",
    "        clear_output()\n",
    "        compare_coverage(file_a_widget.value, file_b_widget.value)\n",
    "        print('Coverage CSV preview:')\n",
    "        display(pd.read_csv('coverage.csv').head())\n",
    "        print('Summary CSV preview:')\n",
    "        display(pd.read_csv('summary.csv').head())\n",
    "\n",
    "run_button.on_click(on_run_clicked)\n",
    "display(file_a_widget, file_b_widget, run_button, output)"
   ]
  }
 ],
 "metadata": {},
 "nbformat": 4,
 "nbformat_minor": 5
}
