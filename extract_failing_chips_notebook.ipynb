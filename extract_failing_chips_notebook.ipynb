{
 "cells": [
  {
   "cell_type": "markdown",
   "metadata": {},
   "source": [
    "# Extract Failing Chips Notebook\n",
    "This notebook replicates the functionality of `extract_failing_chips.py` and\n",
    "lets you select two wafer CSVs to compare." 
   ]
  },
  {
   "cell_type": "code",
   "metadata": {},
   "source": [
    "from extract_failing_chips import compare_coverage\n",
    "import pandas as pd\n",
    "from IPython.display import display" 
   ]
  },
  {
   "cell_type": "code",
   "metadata": {},
   "source": [
    "file_a = input('Path to first wafer CSV: ')\n",
    "file_b = input('Path to second wafer CSV: ')\n",
    "compare_coverage(file_a, file_b)" 
   ]
  },
  {
   "cell_type": "code",
   "metadata": {},
   "source": [
    "print('Coverage CSV preview:')\n",
    "display(pd.read_csv('coverage.csv').head())\n",
    "print('Summary CSV preview:')\n",
    "display(pd.read_csv('summary.csv').head())" 
   ]
  }
 ],
 "metadata": {
  "kernelspec": {
   "display_name": "Python 3", 
   "language": "python", 
   "name": "python3"
  },
  "language_info": {
   "file_extension": ".py", 
   "mimetype": "text/x-python", 
   "name": "python", 
   "nbconvert_exporter": "python", 
   "pygments_lexer": "ipython3", 
   "version": "3.11"
  }
 },
 "nbformat": 4,
 "nbformat_minor": 5
}
